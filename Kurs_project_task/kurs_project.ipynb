{
 "cells": [
  {
   "cell_type": "markdown",
   "metadata": {},
   "source": [
    "# Рабочий вариант курсовой работы\n",
    "\n",
    "## Настройка ноутбука"
   ]
  },
  {
   "cell_type": "code",
   "execution_count": 19,
   "metadata": {},
   "outputs": [],
   "source": [
    "import numpy as np\n",
    "import pandas as pd\n",
    "import matplotlib.pyplot as plt\n",
    "\n",
    "from sklearn.model_selection import train_test_split\n",
    "\n",
    "from sklearn.linear_model import LinearRegression\n",
    "\n",
    "from sklearn.metrics import r2_score, mean_squared_error\n",
    "\n",
    "%matplotlib inline\n",
    "%config InlineBackend.figure_format = 'svg'\n",
    "\n",
    "\n",
    "MY_RANDOM = 427"
   ]
  },
  {
   "cell_type": "markdown",
   "metadata": {},
   "source": [
    "## Определение функций"
   ]
  },
  {
   "cell_type": "code",
   "execution_count": 28,
   "metadata": {},
   "outputs": [],
   "source": [
    "def create_lr_model(df, features):\n",
    "    \"\"\" Создает модель линейной регрессии, делает прогноз на данных из df.\n",
    "        Печатает оценки r2 и mse и возвращает кортеж из них\n",
    "    \"\"\"\n",
    "\n",
    "    target = ['Price']\n",
    "\n",
    "    X = pd.DataFrame(df[features])\n",
    "    y = pd.DataFrame(df[target])\n",
    "\n",
    "    X_train, X_valid, y_train, y_valid = train_test_split(X, y, test_size=0.25, random_state=MY_RANDOM)\n",
    "\n",
    "    lr = LinearRegression()\n",
    "    lr.fit(X_train, y_train)\n",
    "\n",
    "    y_pred = lr.predict(X_valid)\n",
    "\n",
    "    r2 = r2_score(y_valid, y_pred)\n",
    "    mse = mean_squared_error(y_valid, y_pred)\n",
    "\n",
    "    print(f'r2 = {r2}\\nmse = {mse}')\n",
    "    \n",
    "    return (r2, mse)\n"
   ]
  },
  {
   "cell_type": "markdown",
   "metadata": {},
   "source": [
    "## Данные\n",
    "\n",
    "* **data_test** - test.csv\n",
    "* **data_train** - train.csv\n",
    "* **data_all** - совмещенные test и train (для анализа распределения, расчета производных значений, определения классов)\n",
    "* **data** - данные train которые будем очищать\n",
    "* **data_init** - данные для первичного предсказания"
   ]
  },
  {
   "cell_type": "code",
   "execution_count": 20,
   "metadata": {},
   "outputs": [],
   "source": [
    "data_test = pd.read_csv('test.csv')\n",
    "data_train = pd.read_csv('train.csv')\n",
    "data_all = pd.concat([data_test, data_train.drop(['Price'], axis=1)])\n",
    "data = data_train.copy()"
   ]
  },
  {
   "cell_type": "code",
   "execution_count": 21,
   "metadata": {},
   "outputs": [
    {
     "name": "stdout",
     "output_type": "stream",
     "text": [
      "<class 'pandas.core.frame.DataFrame'>\n",
      "RangeIndex: 10000 entries, 0 to 9999\n",
      "Data columns (total 20 columns):\n",
      "Id               10000 non-null int64\n",
      "DistrictId       10000 non-null int64\n",
      "Rooms            10000 non-null float64\n",
      "Square           10000 non-null float64\n",
      "LifeSquare       7887 non-null float64\n",
      "KitchenSquare    10000 non-null float64\n",
      "Floor            10000 non-null int64\n",
      "HouseFloor       10000 non-null float64\n",
      "HouseYear        10000 non-null int64\n",
      "Ecology_1        10000 non-null float64\n",
      "Ecology_2        10000 non-null object\n",
      "Ecology_3        10000 non-null object\n",
      "Social_1         10000 non-null int64\n",
      "Social_2         10000 non-null int64\n",
      "Social_3         10000 non-null int64\n",
      "Healthcare_1     5202 non-null float64\n",
      "Helthcare_2      10000 non-null int64\n",
      "Shops_1          10000 non-null int64\n",
      "Shops_2          10000 non-null object\n",
      "Price            10000 non-null float64\n",
      "dtypes: float64(8), int64(9), object(3)\n",
      "memory usage: 1.5+ MB\n"
     ]
    }
   ],
   "source": [
    "data.info()"
   ]
  },
  {
   "cell_type": "code",
   "execution_count": 22,
   "metadata": {},
   "outputs": [],
   "source": [
    "# Поле Healthcare_1 уберем, т.к. в нем слишком много пропущенных значений (боле 47%)\n",
    "data = data.drop(['Healthcare_1'], axis=1)"
   ]
  },
  {
   "cell_type": "code",
   "execution_count": 23,
   "metadata": {},
   "outputs": [],
   "source": [
    "# Для первичного предсказания заполним пропущенные значения по полю LifeSquare средним значением\n",
    "data_init = data.copy()\n",
    "data_init.loc[:,'LifeSquare'] = data_init.loc[:,'LifeSquare'].fillna(data_train.LifeSquare.mean())"
   ]
  },
  {
   "cell_type": "code",
   "execution_count": 24,
   "metadata": {},
   "outputs": [],
   "source": [
    "# Строки переведем в числа (0 и 1)\n",
    "data_init.loc[data_init['Ecology_2'] == 'B', 'Ecology_2'] = 1\n",
    "data_init.loc[data_init['Ecology_2'] == 'A', 'Ecology_2'] = 0\n",
    "\n",
    "data_init.loc[data_init['Ecology_3'] == 'B', 'Ecology_3'] = 1\n",
    "data_init.loc[data_init['Ecology_3'] == 'A', 'Ecology_3'] = 0\n",
    "\n",
    "data_init.loc[data_init['Shops_2'] == 'B', 'Shops_2'] = 1\n",
    "data_init.loc[data_init['Shops_2'] == 'A', 'Shops_2'] = 0"
   ]
  },
  {
   "cell_type": "code",
   "execution_count": 33,
   "metadata": {},
   "outputs": [
    {
     "name": "stdout",
     "output_type": "stream",
     "text": [
      "Первичное предсказание:\n",
      "r2 = 0.367699524172983\n",
      "mse = 5193081812.447669\n"
     ]
    }
   ],
   "source": [
    "# Сделаем первичное предсказание и запомним начальные оценки точности\n",
    "\n",
    "features = ['DistrictId', 'Rooms', 'Square', 'LifeSquare', 'KitchenSquare',\n",
    "            'Floor', 'HouseFloor', 'HouseYear', 'Ecology_1', 'Ecology_2',\n",
    "            'Ecology_3', 'Social_1', 'Social_2', 'Social_3', 'Helthcare_2',\n",
    "            'Shops_1', 'Shops_2']\n",
    "\n",
    "print(f'Первичное предсказание:')\n",
    "\n",
    "r2_init, mse_init = create_lr_model(data_init, features)"
   ]
  },
  {
   "cell_type": "code",
   "execution_count": 36,
   "metadata": {},
   "outputs": [
    {
     "name": "stdout",
     "output_type": "stream",
     "text": [
      "r2 = 0.4304206718699283\n",
      "mse = 4677953224.358548\n"
     ]
    }
   ],
   "source": [
    "# Пробуем убрать некоторые из признаков. Лучше всего модель показывает себя без признака LifeSquare\n",
    "\n",
    "features_2 = [\n",
    "                'DistrictId',     # 378 убрать\n",
    "                'Rooms',          # 109 оставить, важный признак\n",
    "                'Square',         # -1514 оставить, главный признак\n",
    "#                 'LifeSquare',     # 450 убрать? почистить?\n",
    "                'KitchenSquare',  # 372 убрать\n",
    "                'Floor',          # 361 оставить\n",
    "                'HouseFloor',     # 355 оставить\n",
    "                'HouseYear',      # 372 убрать\n",
    "                'Ecology_1',      # 360 оставить\n",
    "                'Ecology_2',      # 375 убрать\n",
    "                'Ecology_3',      # 372 убрать\n",
    "                'Social_1',       # 391 убрать\n",
    "                'Social_2',       # 374 убрать\n",
    "                'Social_3',       # 372 убрать\n",
    "                'Helthcare_2',    # 374 убрать\n",
    "                'Shops_1',        # 380 убрать\n",
    "                'Shops_2'         # 368 оставить\n",
    "]\n",
    "\n",
    "r2, mse = create_lr_model(data_init, features_2)"
   ]
  },
  {
   "cell_type": "code",
   "execution_count": null,
   "metadata": {},
   "outputs": [],
   "source": []
  },
  {
   "cell_type": "code",
   "execution_count": null,
   "metadata": {},
   "outputs": [],
   "source": []
  },
  {
   "cell_type": "code",
   "execution_count": null,
   "metadata": {},
   "outputs": [],
   "source": []
  },
  {
   "cell_type": "markdown",
   "metadata": {},
   "source": [
    "# Уберем аномалии"
   ]
  },
  {
   "cell_type": "code",
   "execution_count": null,
   "metadata": {},
   "outputs": [],
   "source": []
  },
  {
   "cell_type": "code",
   "execution_count": null,
   "metadata": {},
   "outputs": [],
   "source": []
  },
  {
   "cell_type": "code",
   "execution_count": null,
   "metadata": {},
   "outputs": [],
   "source": []
  },
  {
   "cell_type": "markdown",
   "metadata": {},
   "source": [
    "3. Заполнять пропущенные значения в поле LifeSquare будем средним значением LifeSquare для каждой группы квартир по количеству комнат на всех данных (data_all). Но перед этим необходимо почистить данные в полях Rooms и LifeSquare."
   ]
  },
  {
   "cell_type": "code",
   "execution_count": null,
   "metadata": {},
   "outputs": [],
   "source": [
    "columns = ['Rooms', 'LifeSquare']\n",
    "data[columns].describe().T"
   ]
  },
  {
   "cell_type": "markdown",
   "metadata": {},
   "source": [
    "Необходимо проверить:\n",
    "\n",
    "+ квартиры с кол-ом комнат равном нулю, это либо ошибка, либо квартиры студии\n",
    "+ квартиры с большим количеством комнат\n",
    "+ аномально минимальные значения жилой площади\n",
    "+ аномально макисмальные значения жилой площади"
   ]
  },
  {
   "cell_type": "code",
   "execution_count": null,
   "metadata": {},
   "outputs": [],
   "source": [
    "data[data['Rooms'] == 0]"
   ]
  },
  {
   "cell_type": "markdown",
   "metadata": {},
   "source": [
    "Для квартиры 1397 попробуем ориентироваться на цену и год постройки, т.к. сомнительно выглядят данные по полям Rooms, Square, LifeSquare, а так же Floor > HouseFloor"
   ]
  },
  {
   "cell_type": "code",
   "execution_count": null,
   "metadata": {},
   "outputs": [],
   "source": [
    "data[data['HouseYear'] == 2016].groupby(by=['Rooms'])['Price'].agg(['mean', 'std', 'max', 'min'])"
   ]
  },
  {
   "cell_type": "markdown",
   "metadata": {},
   "source": [
    "Видно, что квартира 1397 скорее всего 3-х комнатная.\n",
    "\n",
    "Попробуем определить значения площадей."
   ]
  },
  {
   "cell_type": "code",
   "execution_count": null,
   "metadata": {},
   "outputs": [],
   "source": [
    "data[(data['HouseYear'] == 2016) & (data['Rooms'] == 3)][['Square', 'LifeSquare']].describe()"
   ]
  },
  {
   "cell_type": "markdown",
   "metadata": {},
   "source": [
    "Значение Square для квартиры 1397 можно взять равным 83.576946"
   ]
  },
  {
   "cell_type": "code",
   "execution_count": null,
   "metadata": {},
   "outputs": [],
   "source": []
  }
 ],
 "metadata": {
  "kernelspec": {
   "display_name": "Python 3",
   "language": "python",
   "name": "python3"
  },
  "language_info": {
   "codemirror_mode": {
    "name": "ipython",
    "version": 3
   },
   "file_extension": ".py",
   "mimetype": "text/x-python",
   "name": "python",
   "nbconvert_exporter": "python",
   "pygments_lexer": "ipython3",
   "version": "3.7.1"
  }
 },
 "nbformat": 4,
 "nbformat_minor": 2
}
