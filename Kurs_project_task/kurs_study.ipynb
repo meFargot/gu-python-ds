{
 "cells": [
  {
   "cell_type": "markdown",
   "metadata": {},
   "source": [
    "### Импорт библиотек и настройка блокнота"
   ]
  },
  {
   "cell_type": "code",
   "execution_count": 1,
   "metadata": {},
   "outputs": [],
   "source": [
    "import numpy as np\n",
    "import pandas as pd\n",
    "\n",
    "import matplotlib.pyplot as plt\n",
    "\n",
    "from pylab import rcParams\n",
    "\n",
    "%matplotlib inline"
   ]
  },
  {
   "cell_type": "markdown",
   "metadata": {},
   "source": [
    "### Загрузка данных"
   ]
  },
  {
   "cell_type": "code",
   "execution_count": 2,
   "metadata": {},
   "outputs": [],
   "source": [
    "data_train = pd.read_csv('train.csv')\n",
    "data_test = pd.read_csv('test.csv')"
   ]
  },
  {
   "cell_type": "code",
   "execution_count": 3,
   "metadata": {},
   "outputs": [],
   "source": [
    "# сохраню названия признаков\n",
    "columns = data_train.columns"
   ]
  },
  {
   "cell_type": "code",
   "execution_count": 4,
   "metadata": {},
   "outputs": [
    {
     "data": {
      "text/html": [
       "<div>\n",
       "<style scoped>\n",
       "    .dataframe tbody tr th:only-of-type {\n",
       "        vertical-align: middle;\n",
       "    }\n",
       "\n",
       "    .dataframe tbody tr th {\n",
       "        vertical-align: top;\n",
       "    }\n",
       "\n",
       "    .dataframe thead th {\n",
       "        text-align: right;\n",
       "    }\n",
       "</style>\n",
       "<table border=\"1\" class=\"dataframe\">\n",
       "  <thead>\n",
       "    <tr style=\"text-align: right;\">\n",
       "      <th></th>\n",
       "      <th>count</th>\n",
       "      <th>mean</th>\n",
       "      <th>std</th>\n",
       "      <th>min</th>\n",
       "      <th>25%</th>\n",
       "      <th>50%</th>\n",
       "      <th>75%</th>\n",
       "      <th>max</th>\n",
       "    </tr>\n",
       "  </thead>\n",
       "  <tbody>\n",
       "    <tr>\n",
       "      <th>Id</th>\n",
       "      <td>10000.0</td>\n",
       "      <td>8383.407700</td>\n",
       "      <td>4859.019020</td>\n",
       "      <td>0.000000</td>\n",
       "      <td>4169.500000</td>\n",
       "      <td>8394.500000</td>\n",
       "      <td>12592.500000</td>\n",
       "      <td>1.679800e+04</td>\n",
       "    </tr>\n",
       "    <tr>\n",
       "      <th>DistrictId</th>\n",
       "      <td>10000.0</td>\n",
       "      <td>50.400800</td>\n",
       "      <td>43.587592</td>\n",
       "      <td>0.000000</td>\n",
       "      <td>20.000000</td>\n",
       "      <td>36.000000</td>\n",
       "      <td>75.000000</td>\n",
       "      <td>2.090000e+02</td>\n",
       "    </tr>\n",
       "    <tr>\n",
       "      <th>Rooms</th>\n",
       "      <td>10000.0</td>\n",
       "      <td>1.890500</td>\n",
       "      <td>0.839512</td>\n",
       "      <td>0.000000</td>\n",
       "      <td>1.000000</td>\n",
       "      <td>2.000000</td>\n",
       "      <td>2.000000</td>\n",
       "      <td>1.900000e+01</td>\n",
       "    </tr>\n",
       "    <tr>\n",
       "      <th>Square</th>\n",
       "      <td>10000.0</td>\n",
       "      <td>56.315775</td>\n",
       "      <td>21.058732</td>\n",
       "      <td>1.136859</td>\n",
       "      <td>41.774881</td>\n",
       "      <td>52.513310</td>\n",
       "      <td>65.900625</td>\n",
       "      <td>6.410652e+02</td>\n",
       "    </tr>\n",
       "    <tr>\n",
       "      <th>LifeSquare</th>\n",
       "      <td>7887.0</td>\n",
       "      <td>37.199645</td>\n",
       "      <td>86.241209</td>\n",
       "      <td>0.370619</td>\n",
       "      <td>22.769832</td>\n",
       "      <td>32.781260</td>\n",
       "      <td>45.128803</td>\n",
       "      <td>7.480592e+03</td>\n",
       "    </tr>\n",
       "    <tr>\n",
       "      <th>KitchenSquare</th>\n",
       "      <td>10000.0</td>\n",
       "      <td>6.273300</td>\n",
       "      <td>28.560917</td>\n",
       "      <td>0.000000</td>\n",
       "      <td>1.000000</td>\n",
       "      <td>6.000000</td>\n",
       "      <td>9.000000</td>\n",
       "      <td>2.014000e+03</td>\n",
       "    </tr>\n",
       "    <tr>\n",
       "      <th>Floor</th>\n",
       "      <td>10000.0</td>\n",
       "      <td>8.526700</td>\n",
       "      <td>5.241148</td>\n",
       "      <td>1.000000</td>\n",
       "      <td>4.000000</td>\n",
       "      <td>7.000000</td>\n",
       "      <td>12.000000</td>\n",
       "      <td>4.200000e+01</td>\n",
       "    </tr>\n",
       "    <tr>\n",
       "      <th>HouseFloor</th>\n",
       "      <td>10000.0</td>\n",
       "      <td>12.609400</td>\n",
       "      <td>6.775974</td>\n",
       "      <td>0.000000</td>\n",
       "      <td>9.000000</td>\n",
       "      <td>13.000000</td>\n",
       "      <td>17.000000</td>\n",
       "      <td>1.170000e+02</td>\n",
       "    </tr>\n",
       "    <tr>\n",
       "      <th>HouseYear</th>\n",
       "      <td>10000.0</td>\n",
       "      <td>3990.166300</td>\n",
       "      <td>200500.261427</td>\n",
       "      <td>1910.000000</td>\n",
       "      <td>1974.000000</td>\n",
       "      <td>1977.000000</td>\n",
       "      <td>2001.000000</td>\n",
       "      <td>2.005201e+07</td>\n",
       "    </tr>\n",
       "    <tr>\n",
       "      <th>Ecology_1</th>\n",
       "      <td>10000.0</td>\n",
       "      <td>0.118858</td>\n",
       "      <td>0.119025</td>\n",
       "      <td>0.000000</td>\n",
       "      <td>0.017647</td>\n",
       "      <td>0.075424</td>\n",
       "      <td>0.195781</td>\n",
       "      <td>5.218671e-01</td>\n",
       "    </tr>\n",
       "    <tr>\n",
       "      <th>Social_1</th>\n",
       "      <td>10000.0</td>\n",
       "      <td>24.687000</td>\n",
       "      <td>17.532614</td>\n",
       "      <td>0.000000</td>\n",
       "      <td>6.000000</td>\n",
       "      <td>25.000000</td>\n",
       "      <td>36.000000</td>\n",
       "      <td>7.400000e+01</td>\n",
       "    </tr>\n",
       "    <tr>\n",
       "      <th>Social_2</th>\n",
       "      <td>10000.0</td>\n",
       "      <td>5352.157400</td>\n",
       "      <td>4006.799803</td>\n",
       "      <td>168.000000</td>\n",
       "      <td>1564.000000</td>\n",
       "      <td>5285.000000</td>\n",
       "      <td>7227.000000</td>\n",
       "      <td>1.908300e+04</td>\n",
       "    </tr>\n",
       "    <tr>\n",
       "      <th>Social_3</th>\n",
       "      <td>10000.0</td>\n",
       "      <td>8.039200</td>\n",
       "      <td>23.831875</td>\n",
       "      <td>0.000000</td>\n",
       "      <td>0.000000</td>\n",
       "      <td>2.000000</td>\n",
       "      <td>5.000000</td>\n",
       "      <td>1.410000e+02</td>\n",
       "    </tr>\n",
       "    <tr>\n",
       "      <th>Healthcare_1</th>\n",
       "      <td>5202.0</td>\n",
       "      <td>1142.904460</td>\n",
       "      <td>1021.517264</td>\n",
       "      <td>0.000000</td>\n",
       "      <td>350.000000</td>\n",
       "      <td>900.000000</td>\n",
       "      <td>1548.000000</td>\n",
       "      <td>4.849000e+03</td>\n",
       "    </tr>\n",
       "    <tr>\n",
       "      <th>Helthcare_2</th>\n",
       "      <td>10000.0</td>\n",
       "      <td>1.319500</td>\n",
       "      <td>1.493601</td>\n",
       "      <td>0.000000</td>\n",
       "      <td>0.000000</td>\n",
       "      <td>1.000000</td>\n",
       "      <td>2.000000</td>\n",
       "      <td>6.000000e+00</td>\n",
       "    </tr>\n",
       "    <tr>\n",
       "      <th>Shops_1</th>\n",
       "      <td>10000.0</td>\n",
       "      <td>4.231300</td>\n",
       "      <td>4.806341</td>\n",
       "      <td>0.000000</td>\n",
       "      <td>1.000000</td>\n",
       "      <td>3.000000</td>\n",
       "      <td>6.000000</td>\n",
       "      <td>2.300000e+01</td>\n",
       "    </tr>\n",
       "    <tr>\n",
       "      <th>Price</th>\n",
       "      <td>10000.0</td>\n",
       "      <td>214138.857399</td>\n",
       "      <td>92872.293865</td>\n",
       "      <td>59174.778028</td>\n",
       "      <td>153872.633942</td>\n",
       "      <td>192269.644879</td>\n",
       "      <td>249135.462171</td>\n",
       "      <td>6.332335e+05</td>\n",
       "    </tr>\n",
       "  </tbody>\n",
       "</table>\n",
       "</div>"
      ],
      "text/plain": [
       "                 count           mean            std           min  \\\n",
       "Id             10000.0    8383.407700    4859.019020      0.000000   \n",
       "DistrictId     10000.0      50.400800      43.587592      0.000000   \n",
       "Rooms          10000.0       1.890500       0.839512      0.000000   \n",
       "Square         10000.0      56.315775      21.058732      1.136859   \n",
       "LifeSquare      7887.0      37.199645      86.241209      0.370619   \n",
       "KitchenSquare  10000.0       6.273300      28.560917      0.000000   \n",
       "Floor          10000.0       8.526700       5.241148      1.000000   \n",
       "HouseFloor     10000.0      12.609400       6.775974      0.000000   \n",
       "HouseYear      10000.0    3990.166300  200500.261427   1910.000000   \n",
       "Ecology_1      10000.0       0.118858       0.119025      0.000000   \n",
       "Social_1       10000.0      24.687000      17.532614      0.000000   \n",
       "Social_2       10000.0    5352.157400    4006.799803    168.000000   \n",
       "Social_3       10000.0       8.039200      23.831875      0.000000   \n",
       "Healthcare_1    5202.0    1142.904460    1021.517264      0.000000   \n",
       "Helthcare_2    10000.0       1.319500       1.493601      0.000000   \n",
       "Shops_1        10000.0       4.231300       4.806341      0.000000   \n",
       "Price          10000.0  214138.857399   92872.293865  59174.778028   \n",
       "\n",
       "                         25%            50%            75%           max  \n",
       "Id               4169.500000    8394.500000   12592.500000  1.679800e+04  \n",
       "DistrictId         20.000000      36.000000      75.000000  2.090000e+02  \n",
       "Rooms               1.000000       2.000000       2.000000  1.900000e+01  \n",
       "Square             41.774881      52.513310      65.900625  6.410652e+02  \n",
       "LifeSquare         22.769832      32.781260      45.128803  7.480592e+03  \n",
       "KitchenSquare       1.000000       6.000000       9.000000  2.014000e+03  \n",
       "Floor               4.000000       7.000000      12.000000  4.200000e+01  \n",
       "HouseFloor          9.000000      13.000000      17.000000  1.170000e+02  \n",
       "HouseYear        1974.000000    1977.000000    2001.000000  2.005201e+07  \n",
       "Ecology_1           0.017647       0.075424       0.195781  5.218671e-01  \n",
       "Social_1            6.000000      25.000000      36.000000  7.400000e+01  \n",
       "Social_2         1564.000000    5285.000000    7227.000000  1.908300e+04  \n",
       "Social_3            0.000000       2.000000       5.000000  1.410000e+02  \n",
       "Healthcare_1      350.000000     900.000000    1548.000000  4.849000e+03  \n",
       "Helthcare_2         0.000000       1.000000       2.000000  6.000000e+00  \n",
       "Shops_1             1.000000       3.000000       6.000000  2.300000e+01  \n",
       "Price          153872.633942  192269.644879  249135.462171  6.332335e+05  "
      ]
     },
     "execution_count": 4,
     "metadata": {},
     "output_type": "execute_result"
    }
   ],
   "source": [
    "d = data_train.describe().T\n",
    "d"
   ]
  },
  {
   "cell_type": "code",
   "execution_count": 5,
   "metadata": {},
   "outputs": [],
   "source": [
    "rcParams['figure.figsize'] = 7, 4"
   ]
  },
  {
   "cell_type": "markdown",
   "metadata": {},
   "source": [
    "### Пострим гистограммы для каждого параметра и попробуем определиться с выбросами"
   ]
  },
  {
   "cell_type": "code",
   "execution_count": 6,
   "metadata": {},
   "outputs": [
    {
     "name": "stdout",
     "output_type": "stream",
     "text": [
      "count     10000.000000\n",
      "mean     214138.857399\n",
      "std       92872.293865\n",
      "min       59174.778028\n",
      "25%      153872.633942\n",
      "50%      192269.644879\n",
      "75%      249135.462171\n",
      "max      633233.466570\n",
      "Name: Price, dtype: float64\n"
     ]
    },
    {
     "data": {
      "image/png": "[encoded data removed]",
      "text/plain": [
       "<Figure size 504x288 with 1 Axes>"
      ]
     },
     "metadata": {
      "needs_background": "light"
     },
     "output_type": "display_data"
    }
   ],
   "source": [
    "# Price\n",
    "\n",
    "print(d.loc['Price'])\n",
    "\n",
    "hist_data = data_train['Price']\n",
    "\n",
    "plt.hist(hist_data, density=1, bins=20, color='Orange')\n",
    "plt.show()"
   ]
  },
  {
   "cell_type": "code",
   "execution_count": 7,
   "metadata": {},
   "outputs": [
    {
     "name": "stdout",
     "output_type": "stream",
     "text": [
      "count    10000.000000\n",
      "mean        50.400800\n",
      "std         43.587592\n",
      "min          0.000000\n",
      "25%         20.000000\n",
      "50%         36.000000\n",
      "75%         75.000000\n",
      "max        209.000000\n",
      "Name: DistrictId, dtype: float64\n"
     ]
    },
    {
     "data": {
      "image/png": "[encoded data removed]",
      "text/plain": [
       "<Figure size 504x288 with 1 Axes>"
      ]
     },
     "metadata": {
      "needs_background": "light"
     },
     "output_type": "display_data"
    }
   ],
   "source": [
    "# DistrictId\n",
    "\n",
    "print(d.loc['DistrictId'])\n",
    "\n",
    "hist_data = data_train['DistrictId']\n",
    "\n",
    "plt.hist(hist_data, density=1, bins=50, color='Blue')\n",
    "plt.show()\n",
    "\n",
    "# есть районы с большим количеством проданных квартир, есть с совсем маленьким"
   ]
  },
  {
   "cell_type": "code",
   "execution_count": 8,
   "metadata": {},
   "outputs": [
    {
     "name": "stdout",
     "output_type": "stream",
     "text": [
      "count    10000.000000\n",
      "mean         1.890500\n",
      "std          0.839512\n",
      "min          0.000000\n",
      "25%          1.000000\n",
      "50%          2.000000\n",
      "75%          2.000000\n",
      "max         19.000000\n",
      "Name: Rooms, dtype: float64\n"
     ]
    },
    {
     "data": {
      "image/png": "[encoded data removed]",
      "text/plain": [
       "<Figure size 504x288 with 1 Axes>"
      ]
     },
     "metadata": {
      "needs_background": "light"
     },
     "output_type": "display_data"
    },
    {
     "name": "stdout",
     "output_type": "stream",
     "text": [
      "Явный выброс > 5, убираем\n"
     ]
    },
    {
     "data": {
      "image/png": "[encoded data removed]",
      "text/plain": [
       "<Figure size 504x288 with 1 Axes>"
      ]
     },
     "metadata": {
      "needs_background": "light"
     },
     "output_type": "display_data"
    },
    {
     "name": "stdout",
     "output_type": "stream",
     "text": [
      "так же убираем квартиры с 0 комнат (их всего 8, и это значение вероятно бессмысленно)\n"
     ]
    },
    {
     "data": {
      "image/png": "[encoded data removed]",
      "text/plain": [
       "<Figure size 504x288 with 1 Axes>"
      ]
     },
     "metadata": {
      "needs_background": "light"
     },
     "output_type": "display_data"
    },
    {
     "data": {
      "text/plain": [
       "count    9988.000000\n",
       "mean        1.888266\n",
       "std         0.811534\n",
       "min         1.000000\n",
       "25%         1.000000\n",
       "50%         2.000000\n",
       "75%         2.000000\n",
       "max         5.000000\n",
       "Name: Rooms, dtype: float64"
      ]
     },
     "execution_count": 8,
     "metadata": {},
     "output_type": "execute_result"
    }
   ],
   "source": [
    "# Rooms\n",
    "\n",
    "print(d.loc['Rooms'])\n",
    "\n",
    "hist_data = data_train['Rooms']\n",
    "\n",
    "plt.hist(hist_data, density=1, bins=20, color='Blue')\n",
    "plt.show()\n",
    "\n",
    "print('Явный выброс > 5, убираем')\n",
    "\n",
    "hist_data = data_train[data_train['Rooms'] <= 5]['Rooms']\n",
    "\n",
    "plt.hist(hist_data, density=1, bins=5, color='Blue')\n",
    "plt.show()\n",
    "\n",
    "print('так же убираем квартиры с 0 комнат (их всего 8, и это значение вероятно бессмысленно)')\n",
    "\n",
    "hist_data = data_train[(data_train['Rooms'] <= 5) & (data_train['Rooms'] > 0)]['Rooms']\n",
    "\n",
    "plt.hist(hist_data, density=1, bins=5, color='Blue')\n",
    "plt.show()\n",
    "\n",
    "hist_data.describe()\n"
   ]
  },
  {
   "cell_type": "code",
   "execution_count": 9,
   "metadata": {
    "scrolled": false
   },
   "outputs": [
    {
     "name": "stdout",
     "output_type": "stream",
     "text": [
      "count    10000.000000\n",
      "mean        56.315775\n",
      "std         21.058732\n",
      "min          1.136859\n",
      "25%         41.774881\n",
      "50%         52.513310\n",
      "75%         65.900625\n",
      "max        641.065193\n",
      "Name: Square, dtype: float64\n"
     ]
    },
    {
     "data": {
      "image/png": "[encoded data removed]",
      "text/plain": [
       "<Figure size 504x288 with 1 Axes>"
      ]
     },
     "metadata": {
      "needs_background": "light"
     },
     "output_type": "display_data"
    },
    {
     "name": "stdout",
     "output_type": "stream",
     "text": [
      "Максимум в разы болше квартиля 75%, убираем все что меньше 200\n"
     ]
    },
    {
     "data": {
      "image/png": "[encoded data removed]",
      "text/plain": [
       "<Figure size 504x288 with 1 Axes>"
      ]
     },
     "metadata": {
      "needs_background": "light"
     },
     "output_type": "display_data"
    },
    {
     "name": "stdout",
     "output_type": "stream",
     "text": [
      "так же квартиль 25% в разы больше минимума, попробуем поиграться с bins\n"
     ]
    },
    {
     "data": {
      "image/png": "[encoded data removed]",
      "text/plain": [
       "<Figure size 504x288 with 1 Axes>"
      ]
     },
     "metadata": {
      "needs_background": "light"
     },
     "output_type": "display_data"
    },
    {
     "name": "stdout",
     "output_type": "stream",
     "text": [
      "убираем так же все квартиры с площадью меньше 20\n"
     ]
    },
    {
     "data": {
      "image/png": "[encoded data removed]",
      "text/plain": [
       "<Figure size 504x288 with 1 Axes>"
      ]
     },
     "metadata": {
      "needs_background": "light"
     },
     "output_type": "display_data"
    },
    {
     "name": "stdout",
     "output_type": "stream",
     "text": [
      "занчения больше 130 тоже похоже на выбросы, попробуем убрать\n"
     ]
    },
    {
     "data": {
      "image/png": "[encoded data removed]",
      "text/plain": [
       "<Figure size 504x288 with 1 Axes>"
      ]
     },
     "metadata": {
      "needs_background": "light"
     },
     "output_type": "display_data"
    },
    {
     "name": "stdout",
     "output_type": "stream",
     "text": [
      "похоже на три пика, в районе 40, 60 и 80 кв.м., предполагаю, что это будут 1, 2, 3 комнатные квартиры\n"
     ]
    },
    {
     "data": {
      "text/plain": [
       "count    9927.000000\n",
       "mean       55.768894\n",
       "std        17.631670\n",
       "min        20.213128\n",
       "25%        41.781737\n",
       "50%        52.418335\n",
       "75%        65.782579\n",
       "max       129.998756\n",
       "Name: Square, dtype: float64"
      ]
     },
     "execution_count": 9,
     "metadata": {},
     "output_type": "execute_result"
    }
   ],
   "source": [
    "# Square\n",
    "\n",
    "print(d.loc['Square'])\n",
    "\n",
    "hist_data = data_train['Square']\n",
    "\n",
    "plt.hist(hist_data, density=1, bins=20, color='Blue')\n",
    "plt.show()\n",
    "\n",
    "print('Максимум в разы болше квартиля 75%, убираем все что меньше 200')\n",
    "\n",
    "hist_data = data_train[data_train['Square'] <= 200]['Square']\n",
    "\n",
    "plt.hist(hist_data, density=1, bins=5, color='Blue')\n",
    "plt.show()\n",
    "\n",
    "print('так же квартиль 25% в разы больше минимума, попробуем поиграться с bins')\n",
    "\n",
    "plt.hist(hist_data, density=1, bins=40, color='Blue')\n",
    "plt.show()\n",
    "\n",
    "print('убираем так же все квартиры с площадью меньше 20')\n",
    "\n",
    "hist_data = data_train[(data_train['Square'] <= 200) & (data_train['Square'] > 20)]['Square']\n",
    "\n",
    "plt.hist(hist_data, density=1, bins=50, color='Blue')\n",
    "plt.show()\n",
    "\n",
    "print('занчения больше 130 тоже похоже на выбросы, попробуем убрать')\n",
    "\n",
    "hist_data = data_train[(data_train['Square'] <= 130) & (data_train['Square'] > 20)]['Square']\n",
    "\n",
    "plt.hist(hist_data, density=1, bins=50, color='Blue')\n",
    "plt.show()\n",
    "\n",
    "print('похоже на три пика, в районе 40, 60 и 80 кв.м., предполагаю, что это будут 1, 2, 3 комнатные квартиры')\n",
    "\n",
    "hist_data.describe()"
   ]
  },
  {
   "cell_type": "code",
   "execution_count": 10,
   "metadata": {
    "scrolled": false
   },
   "outputs": [
    {
     "name": "stdout",
     "output_type": "stream",
     "text": [
      "count    7887.000000\n",
      "mean       37.199645\n",
      "std        86.241209\n",
      "min         0.370619\n",
      "25%        22.769832\n",
      "50%        32.781260\n",
      "75%        45.128803\n",
      "max      7480.592129\n",
      "Name: LifeSquare, dtype: float64\n",
      "макисмум на порядки больше 75% квартиля, попробуем убрать выше 130, т.к. общая площадь ограничена у нас 130\n"
     ]
    },
    {
     "data": {
      "image/png": "[encoded data removed]",
      "text/plain": [
       "<Figure size 504x288 with 1 Axes>"
      ]
     },
     "metadata": {
      "needs_background": "light"
     },
     "output_type": "display_data"
    },
    {
     "name": "stdout",
     "output_type": "stream",
     "text": [
      "убираем нулевые значения\n"
     ]
    },
    {
     "data": {
      "image/png": "[encoded data removed]",
      "text/plain": [
       "<Figure size 504x288 with 1 Axes>"
      ]
     },
     "metadata": {
      "needs_background": "light"
     },
     "output_type": "display_data"
    },
    {
     "name": "stdout",
     "output_type": "stream",
     "text": [
      "убираем левый выброс\n"
     ]
    },
    {
     "data": {
      "image/png": "[encoded data removed]",
      "text/plain": [
       "<Figure size 504x288 with 1 Axes>"
      ]
     },
     "metadata": {
      "needs_background": "light"
     },
     "output_type": "display_data"
    },
    {
     "name": "stdout",
     "output_type": "stream",
     "text": [
      "тоже видим 3 пика, попробуем изменять bins\n"
     ]
    },
    {
     "data": {
      "image/png": "[encoded data removed]",
      "text/plain": [
       "<Figure size 504x288 with 1 Axes>"
      ]
     },
     "metadata": {
      "needs_background": "light"
     },
     "output_type": "display_data"
    },
    {
     "name": "stdout",
     "output_type": "stream",
     "text": [
      "убираем выбросы\n"
     ]
    },
    {
     "data": {
      "image/png": "[encoded data removed]",
      "text/plain": [
       "<Figure size 504x288 with 1 Axes>"
      ]
     },
     "metadata": {
      "needs_background": "light"
     },
     "output_type": "display_data"
    },
    {
     "name": "stdout",
     "output_type": "stream",
     "text": [
      "аналогичные 3 пика, связано вероятно с кол-ом комнат\n"
     ]
    },
    {
     "data": {
      "text/plain": [
       "count    7655.000000\n",
       "mean       36.573341\n",
       "std        16.014899\n",
       "min         8.822988\n",
       "25%        23.267736\n",
       "50%        33.069266\n",
       "75%        45.271270\n",
       "max       118.986655\n",
       "Name: LifeSquare, dtype: float64"
      ]
     },
     "execution_count": 10,
     "metadata": {},
     "output_type": "execute_result"
    }
   ],
   "source": [
    "# LifeSquare\n",
    "\n",
    "print(d.loc['LifeSquare'])\n",
    "\n",
    "hist_data = data_train['LifeSquare']\n",
    "\n",
    "print('макисмум на порядки больше 75% квартиля, попробуем убрать выше 130, т.к. общая площадь ограничена у нас 130')\n",
    "\n",
    "hist_data = data_train[data_train['LifeSquare'] <= 130]['LifeSquare']\n",
    "\n",
    "plt.hist(hist_data, density=1, bins=20, color='Blue')\n",
    "plt.show()\n",
    "\n",
    "print('убираем нулевые значения')\n",
    "\n",
    "hist_data = data_train[(data_train['LifeSquare'] <= 130) & (data_train['LifeSquare'] > 0)]['LifeSquare']\n",
    "\n",
    "plt.hist(hist_data, density=1, bins=20, color='Blue')\n",
    "plt.show()\n",
    "\n",
    "print('убираем левый выброс')\n",
    "\n",
    "hist_data = data_train[(data_train['LifeSquare'] <= 130) & (data_train['LifeSquare'] > 5)]['LifeSquare']\n",
    "\n",
    "plt.hist(hist_data, density=1, bins=20, color='Blue')\n",
    "plt.show()\n",
    "\n",
    "print('тоже видим 3 пика, попробуем изменять bins')\n",
    "\n",
    "hist_data = data_train[(data_train['LifeSquare'] <= 130) & (data_train['LifeSquare'] > 5)]['LifeSquare']\n",
    "\n",
    "plt.hist(hist_data, density=1, bins=50, color='Blue')\n",
    "plt.show()\n",
    "\n",
    "print('убираем выбросы')\n",
    "\n",
    "hist_data = data_train[(data_train['LifeSquare'] <= 120) & (data_train['LifeSquare'] > 6)]['LifeSquare']\n",
    "\n",
    "plt.hist(hist_data, density=1, bins=50, color='Blue')\n",
    "plt.show()\n",
    "\n",
    "print('аналогичные 3 пика, связано вероятно с кол-ом комнат')\n",
    "\n",
    "hist_data.describe()\n",
    "\n",
    "\n",
    "\n",
    "# hist_data = data_train[(data_train['Rooms'] <= 5) & (data_train['Rooms'] > 0)]['Rooms']\n",
    "\n",
    "# plt.hist(hist_data, density=1, bins=5, color='Blue')\n",
    "# plt.show()\n"
   ]
  },
  {
   "cell_type": "code",
   "execution_count": 11,
   "metadata": {
    "scrolled": false
   },
   "outputs": [
    {
     "name": "stdout",
     "output_type": "stream",
     "text": [
      "count    10000.000000\n",
      "mean         6.273300\n",
      "std         28.560917\n",
      "min          0.000000\n",
      "25%          1.000000\n",
      "50%          6.000000\n",
      "75%          9.000000\n",
      "max       2014.000000\n",
      "Name: KitchenSquare, dtype: float64\n",
      "макисмум 2014 - явная ошибка с годом, отрезаем:\n"
     ]
    },
    {
     "data": {
      "image/png": "[encoded data removed]",
      "text/plain": [
       "<Figure size 504x288 with 1 Axes>"
      ]
     },
     "metadata": {
      "needs_background": "light"
     },
     "output_type": "display_data"
    },
    {
     "name": "stdout",
     "output_type": "stream",
     "text": [
      "Максимум больше 75% квартиля в разы, явный выброс, убираем:\n"
     ]
    },
    {
     "data": {
      "image/png": "[encoded data removed]",
      "text/plain": [
       "<Figure size 504x288 with 1 Axes>"
      ]
     },
     "metadata": {
      "needs_background": "light"
     },
     "output_type": "display_data"
    },
    {
     "name": "stdout",
     "output_type": "stream",
     "text": [
      "Убираем левый выброс:\n"
     ]
    },
    {
     "data": {
      "image/png": "[encoded data removed]",
      "text/plain": [
       "<Figure size 504x288 with 1 Axes>"
      ]
     },
     "metadata": {
      "needs_background": "light"
     },
     "output_type": "display_data"
    },
    {
     "name": "stdout",
     "output_type": "stream",
     "text": [
      "Минимум равен 1 и 25% квартиль тоже, интересная особенность, больше четверти квартир имеют площадь кухни 1?\n",
      "Посомтрим на распределение без этих квартир:\n"
     ]
    },
    {
     "data": {
      "image/png": "[encoded data removed]",
      "text/plain": [
       "<Figure size 504x288 with 1 Axes>"
      ]
     },
     "metadata": {
      "needs_background": "light"
     },
     "output_type": "display_data"
    },
    {
     "name": "stdout",
     "output_type": "stream",
     "text": [
      "Теперь похоже на распределения прочих площадей. Три группы выделяются.\n",
      "Изменим bins\n"
     ]
    },
    {
     "data": {
      "image/png": "[encoded data removed]",
      "text/plain": [
       "<Figure size 504x288 with 1 Axes>"
      ]
     },
     "metadata": {
      "needs_background": "light"
     },
     "output_type": "display_data"
    },
    {
     "data": {
      "text/plain": [
       "count    6796.000000\n",
       "mean        7.950265\n",
       "std         2.394167\n",
       "min         2.000000\n",
       "25%         6.000000\n",
       "50%         8.000000\n",
       "75%        10.000000\n",
       "max        21.000000\n",
       "Name: KitchenSquare, dtype: float64"
      ]
     },
     "execution_count": 11,
     "metadata": {},
     "output_type": "execute_result"
    }
   ],
   "source": [
    "# KitchenSquare\n",
    "\n",
    "print(d.loc['KitchenSquare'])\n",
    "\n",
    "hist_data = data_train['KitchenSquare']\n",
    "\n",
    "print('макисмум 2014 - явная ошибка с годом, отрезаем:')\n",
    "\n",
    "hist_data = data_train[data_train['KitchenSquare'] <= 100]['KitchenSquare']\n",
    "# hist_data = data_train['KitchenSquare']\n",
    "\n",
    "plt.hist(hist_data, density=1, bins=20, color='Blue')\n",
    "plt.show()\n",
    "\n",
    "hist_data.describe()\n",
    "\n",
    "print('Максимум больше 75% квартиля в разы, явный выброс, убираем:')\n",
    "\n",
    "hist_data = data_train[data_train['KitchenSquare'] <= 21]['KitchenSquare']\n",
    "\n",
    "plt.hist(hist_data, density=1, bins=20, color='Blue')\n",
    "plt.show()\n",
    "\n",
    "print('Убираем левый выброс:')\n",
    "\n",
    "hist_data = data_train[(data_train['KitchenSquare'] <= 21) & (data_train['KitchenSquare'] > 0)]['KitchenSquare']\n",
    "\n",
    "plt.hist(hist_data, density=1, bins=20, color='Blue')\n",
    "plt.show()\n",
    "\n",
    "print('Минимум равен 1 и 25% квартиль тоже, интересная особенность, больше четверти квартир имеют площадь кухни 1?')\n",
    "\n",
    "print('Посомтрим на распределение без этих квартир:')\n",
    "\n",
    "hist_data = data_train[(data_train['KitchenSquare'] <= 21) & (data_train['KitchenSquare'] > 1)]['KitchenSquare']\n",
    "\n",
    "plt.hist(hist_data, density=1, bins=20, color='Blue')\n",
    "plt.show()\n",
    "\n",
    "print('Теперь похоже на распределения прочих площадей. Три группы выделяются.')\n",
    "print('Изменим bins')\n",
    "\n",
    "hist_data = data_train[(data_train['KitchenSquare'] <= 21) & (data_train['KitchenSquare'] > 1)]['KitchenSquare']\n",
    "\n",
    "plt.hist(hist_data, density=1, bins=20, color='Blue')\n",
    "plt.show()\n",
    "\n",
    "hist_data.describe()\n",
    "\n",
    "# hist_data.describe()\n",
    "\n",
    "\n",
    "\n",
    "# hist_data = data_train[(data_train['Rooms'] <= 5) & (data_train['Rooms'] > 0)]['Rooms']\n",
    "\n",
    "# plt.hist(hist_data, density=1, bins=5, color='Blue')\n",
    "# plt.show()\n"
   ]
  },
  {
   "cell_type": "code",
   "execution_count": 12,
   "metadata": {
    "scrolled": false
   },
   "outputs": [
    {
     "name": "stdout",
     "output_type": "stream",
     "text": [
      "count    10000.000000\n",
      "mean         8.526700\n",
      "std          5.241148\n",
      "min          1.000000\n",
      "25%          4.000000\n",
      "50%          7.000000\n",
      "75%         12.000000\n",
      "max         42.000000\n",
      "Name: Floor, dtype: float64\n"
     ]
    },
    {
     "data": {
      "image/png": "[encoded data removed]",
      "text/plain": [
       "<Figure size 504x288 with 1 Axes>"
      ]
     },
     "metadata": {
      "needs_background": "light"
     },
     "output_type": "display_data"
    },
    {
     "name": "stdout",
     "output_type": "stream",
     "text": [
      "Попробуем убрать 42 этаж:\n"
     ]
    },
    {
     "data": {
      "image/png": "[encoded data removed]",
      "text/plain": [
       "<Figure size 504x288 with 1 Axes>"
      ]
     },
     "metadata": {
      "needs_background": "light"
     },
     "output_type": "display_data"
    },
    {
     "name": "stdout",
     "output_type": "stream",
     "text": [
      "Попробуем убрать все квартиры с этажем меньше 30:\n"
     ]
    },
    {
     "data": {
      "image/png": "[encoded data removed]",
      "text/plain": [
       "<Figure size 504x288 with 1 Axes>"
      ]
     },
     "metadata": {
      "needs_background": "light"
     },
     "output_type": "display_data"
    },
    {
     "name": "stdout",
     "output_type": "stream",
     "text": [
      "Интересные пики, поиграем с bins\n"
     ]
    },
    {
     "data": {
      "image/png": "[encoded data removed]",
      "text/plain": [
       "<Figure size 504x288 with 1 Axes>"
      ]
     },
     "metadata": {
      "needs_background": "light"
     },
     "output_type": "display_data"
    },
    {
     "data": {
      "text/plain": [
       "count    9994.000000\n",
       "mean        8.511107\n",
       "std         5.203064\n",
       "min         1.000000\n",
       "25%         4.000000\n",
       "50%         7.000000\n",
       "75%        12.000000\n",
       "max        28.000000\n",
       "Name: Floor, dtype: float64"
      ]
     },
     "execution_count": 12,
     "metadata": {},
     "output_type": "execute_result"
    }
   ],
   "source": [
    "# Floor\n",
    "\n",
    "print(d.loc['Floor'])\n",
    "\n",
    "hist_data = data_train['Floor']\n",
    "\n",
    "plt.hist(hist_data, density=1, bins=20, color='Blue')\n",
    "plt.show()\n",
    "\n",
    "print('Попробуем убрать 42 этаж:')\n",
    "\n",
    "hist_data = data_train[data_train['Floor'] < 42]['Floor']\n",
    "\n",
    "plt.hist(hist_data, density=1, bins=20, color='Blue')\n",
    "plt.show()\n",
    "\n",
    "print('Попробуем убрать все квартиры с этажем меньше 30:')\n",
    "\n",
    "hist_data = data_train[data_train['Floor'] <= 30]['Floor']\n",
    "\n",
    "plt.hist(hist_data, density=1, bins=20, color='Blue')\n",
    "plt.show()\n",
    "\n",
    "hist_data.describe()\n",
    "\n",
    "print('Интересные пики, поиграем с bins')\n",
    "\n",
    "plt.hist(hist_data, density=1, bins=28, color='Blue')\n",
    "plt.show()\n",
    "\n",
    "hist_data.describe()"
   ]
  },
  {
   "cell_type": "code",
   "execution_count": 13,
   "metadata": {},
   "outputs": [
    {
     "name": "stdout",
     "output_type": "stream",
     "text": [
      "count    10000.000000\n",
      "mean        12.609400\n",
      "std          6.775974\n",
      "min          0.000000\n",
      "25%          9.000000\n",
      "50%         13.000000\n",
      "75%         17.000000\n",
      "max        117.000000\n",
      "Name: HouseFloor, dtype: float64\n"
     ]
    },
    {
     "data": {
      "image/png": "[encoded data removed]",
      "text/plain": [
       "<Figure size 504x288 with 1 Axes>"
      ]
     },
     "metadata": {
      "needs_background": "light"
     },
     "output_type": "display_data"
    },
    {
     "name": "stdout",
     "output_type": "stream",
     "text": [
      "Убираем все дома выше 30 этажей и равных 0:\n"
     ]
    },
    {
     "data": {
      "image/png": "[encoded data removed]",
      "text/plain": [
       "<Figure size 504x288 with 1 Axes>"
      ]
     },
     "metadata": {
      "needs_background": "light"
     },
     "output_type": "display_data"
    },
    {
     "name": "stdout",
     "output_type": "stream",
     "text": [
      "Уникальных по высоте домов: 29\n"
     ]
    },
    {
     "data": {
      "image/png": "[encoded data removed]",
      "text/plain": [
       "<Figure size 504x288 with 1 Axes>"
      ]
     },
     "metadata": {
      "needs_background": "light"
     },
     "output_type": "display_data"
    },
    {
     "data": {
      "text/plain": [
       "count    9682.000000\n",
       "mean       12.825656\n",
       "std         6.147934\n",
       "min         1.000000\n",
       "25%         9.000000\n",
       "50%        14.000000\n",
       "75%        17.000000\n",
       "max        29.000000\n",
       "Name: HouseFloor, dtype: float64"
      ]
     },
     "execution_count": 13,
     "metadata": {},
     "output_type": "execute_result"
    }
   ],
   "source": [
    "# HouseFloor\n",
    "\n",
    "print(d.loc['HouseFloor'])\n",
    "\n",
    "hist_data = data_train['HouseFloor']\n",
    "\n",
    "plt.hist(hist_data, density=1, bins=20, color='Blue')\n",
    "plt.show()\n",
    "\n",
    "print('Убираем все дома выше 30 этажей и равных 0:')\n",
    "\n",
    "hist_data = data_train[(data_train['HouseFloor'] < 30) & (data_train['HouseFloor'] > 0)]['HouseFloor']\n",
    "\n",
    "plt.hist(hist_data, density=1, bins=20, color='Blue')\n",
    "plt.show()\n",
    "\n",
    "hd_uniq = hist_data.nunique()\n",
    "\n",
    "print(f'Уникальных по высоте домов: {hd_uniq}')\n",
    "\n",
    "hist_data = data_train[(data_train['HouseFloor'] < 30) & (data_train['HouseFloor'] > 0)]['HouseFloor']\n",
    "\n",
    "plt.hist(hist_data, density=1, bins=hd_uniq, color='Blue')\n",
    "plt.show()\n",
    "\n",
    "\n",
    "hist_data.describe()"
   ]
  },
  {
   "cell_type": "code",
   "execution_count": 14,
   "metadata": {
    "scrolled": false
   },
   "outputs": [
    {
     "name": "stdout",
     "output_type": "stream",
     "text": [
      "count    1.000000e+04\n",
      "mean     3.990166e+03\n",
      "std      2.005003e+05\n",
      "min      1.910000e+03\n",
      "25%      1.974000e+03\n",
      "50%      1.977000e+03\n",
      "75%      2.001000e+03\n",
      "max      2.005201e+07\n",
      "Name: HouseYear, dtype: float64\n"
     ]
    },
    {
     "data": {
      "image/png": "[encoded data removed]",
      "text/plain": [
       "<Figure size 504x288 with 1 Axes>"
      ]
     },
     "metadata": {
      "needs_background": "light"
     },
     "output_type": "display_data"
    },
    {
     "name": "stdout",
     "output_type": "stream",
     "text": [
      "Максимальный год явно с ошибкой, обрезаем до 2030\n"
     ]
    },
    {
     "data": {
      "image/png": "[encoded data removed]",
      "text/plain": [
       "<Figure size 504x288 with 1 Axes>"
      ]
     },
     "metadata": {
      "needs_background": "light"
     },
     "output_type": "display_data"
    },
    {
     "name": "stdout",
     "output_type": "stream",
     "text": [
      "Максимальный год 2020, а выбросы слева обрежем 1945 (год окончания войны)\n"
     ]
    },
    {
     "data": {
      "image/png": "[encoded data removed]",
      "text/plain": [
       "<Figure size 504x288 with 1 Axes>"
      ]
     },
     "metadata": {
      "needs_background": "light"
     },
     "output_type": "display_data"
    },
    {
     "name": "stdout",
     "output_type": "stream",
     "text": [
      "После подбора параметра bins\n",
      "Уникальных по году: 73\n"
     ]
    },
    {
     "data": {
      "image/png": "[encoded data removed]",
      "text/plain": [
       "<Figure size 504x288 with 1 Axes>"
      ]
     },
     "metadata": {
      "needs_background": "light"
     },
     "output_type": "display_data"
    },
    {
     "name": "stdout",
     "output_type": "stream",
     "text": [
      "Явно выделяется один год в пике:\n",
      "\n",
      "1977    2652\n",
      "Name: HouseYear, dtype: int64\n"
     ]
    },
    {
     "data": {
      "text/plain": [
       "count    9924.000000\n",
       "mean     1985.265216\n",
       "std        17.870620\n",
       "min      1947.000000\n",
       "25%      1974.000000\n",
       "50%      1977.000000\n",
       "75%      2001.000000\n",
       "max      2020.000000\n",
       "Name: HouseYear, dtype: float64"
      ]
     },
     "execution_count": 14,
     "metadata": {},
     "output_type": "execute_result"
    }
   ],
   "source": [
    "# HouseYear\n",
    "\n",
    "print(d.loc['HouseYear'])\n",
    "\n",
    "hist_data = data_train['HouseYear']\n",
    "\n",
    "plt.hist(hist_data, density=1, bins=20, color='Blue')\n",
    "plt.show()\n",
    "\n",
    "print('Максимальный год явно с ошибкой, обрезаем до 2030')\n",
    "\n",
    "hist_data = data_train[data_train['HouseYear'] <= 2030]['HouseYear']\n",
    "\n",
    "plt.hist(hist_data, density=1, bins=20, color='Blue')\n",
    "plt.show()\n",
    "\n",
    "print('Максимальный год 2020, а выбросы слева обрежем 1945 (год окончания войны)')\n",
    "\n",
    "hist_data = data_train[(data_train['HouseYear'] <= 2030) & (data_train['HouseYear'] >= 1945)]['HouseYear']\n",
    "\n",
    "plt.hist(hist_data, density=1, bins=20, color='Blue')\n",
    "plt.show()\n",
    "\n",
    "print('После подбора параметра bins')\n",
    "\n",
    "hist_data = data_train[(data_train['HouseYear'] <= 2030) & (data_train['HouseYear'] >= 1945)]['HouseYear']\n",
    "\n",
    "hd_uniq = hist_data.nunique()\n",
    "print(f'Уникальных по году: {hd_uniq}')\n",
    "\n",
    "plt.hist(hist_data, density=1, bins=hd_uniq, color='Blue')\n",
    "plt.show()\n",
    "\n",
    "print('Явно выделяется один год в пике:\\n')\n",
    "\n",
    "print(hist_data.value_counts().head(1))\n",
    "\n",
    "hist_data.describe()"
   ]
  },
  {
   "cell_type": "code",
   "execution_count": 15,
   "metadata": {},
   "outputs": [
    {
     "data": {
      "text/html": [
       "<div>\n",
       "<style scoped>\n",
       "    .dataframe tbody tr th:only-of-type {\n",
       "        vertical-align: middle;\n",
       "    }\n",
       "\n",
       "    .dataframe tbody tr th {\n",
       "        vertical-align: top;\n",
       "    }\n",
       "\n",
       "    .dataframe thead th {\n",
       "        text-align: right;\n",
       "    }\n",
       "</style>\n",
       "<table border=\"1\" class=\"dataframe\">\n",
       "  <thead>\n",
       "    <tr style=\"text-align: right;\">\n",
       "      <th></th>\n",
       "      <th>Id</th>\n",
       "      <th>DistrictId</th>\n",
       "      <th>Rooms</th>\n",
       "      <th>Square</th>\n",
       "      <th>LifeSquare</th>\n",
       "      <th>KitchenSquare</th>\n",
       "      <th>Floor</th>\n",
       "      <th>HouseFloor</th>\n",
       "      <th>HouseYear</th>\n",
       "      <th>Ecology_1</th>\n",
       "      <th>Ecology_2</th>\n",
       "      <th>Ecology_3</th>\n",
       "      <th>Social_1</th>\n",
       "      <th>Social_2</th>\n",
       "      <th>Social_3</th>\n",
       "      <th>Healthcare_1</th>\n",
       "      <th>Helthcare_2</th>\n",
       "      <th>Shops_1</th>\n",
       "      <th>Shops_2</th>\n",
       "      <th>Price</th>\n",
       "    </tr>\n",
       "  </thead>\n",
       "  <tbody>\n",
       "    <tr>\n",
       "      <th>646</th>\n",
       "      <td>6232</td>\n",
       "      <td>3</td>\n",
       "      <td>1.0</td>\n",
       "      <td>33.245676</td>\n",
       "      <td>18.719108</td>\n",
       "      <td>6.0</td>\n",
       "      <td>9</td>\n",
       "      <td>9.0</td>\n",
       "      <td>1972</td>\n",
       "      <td>0.050900</td>\n",
       "      <td>B</td>\n",
       "      <td>B</td>\n",
       "      <td>43</td>\n",
       "      <td>10621</td>\n",
       "      <td>1</td>\n",
       "      <td>30.0</td>\n",
       "      <td>2</td>\n",
       "      <td>3</td>\n",
       "      <td>B</td>\n",
       "      <td>142218.797930</td>\n",
       "    </tr>\n",
       "    <tr>\n",
       "      <th>921</th>\n",
       "      <td>599</td>\n",
       "      <td>46</td>\n",
       "      <td>1.0</td>\n",
       "      <td>32.167400</td>\n",
       "      <td>18.353275</td>\n",
       "      <td>6.0</td>\n",
       "      <td>3</td>\n",
       "      <td>9.0</td>\n",
       "      <td>1968</td>\n",
       "      <td>0.000000</td>\n",
       "      <td>B</td>\n",
       "      <td>B</td>\n",
       "      <td>47</td>\n",
       "      <td>11319</td>\n",
       "      <td>0</td>\n",
       "      <td>1145.0</td>\n",
       "      <td>3</td>\n",
       "      <td>5</td>\n",
       "      <td>B</td>\n",
       "      <td>173714.416621</td>\n",
       "    </tr>\n",
       "    <tr>\n",
       "      <th>1790</th>\n",
       "      <td>5715</td>\n",
       "      <td>22</td>\n",
       "      <td>1.0</td>\n",
       "      <td>32.198351</td>\n",
       "      <td>19.043846</td>\n",
       "      <td>6.0</td>\n",
       "      <td>4</td>\n",
       "      <td>5.0</td>\n",
       "      <td>1959</td>\n",
       "      <td>0.000995</td>\n",
       "      <td>B</td>\n",
       "      <td>B</td>\n",
       "      <td>42</td>\n",
       "      <td>7651</td>\n",
       "      <td>1</td>\n",
       "      <td>NaN</td>\n",
       "      <td>1</td>\n",
       "      <td>5</td>\n",
       "      <td>B</td>\n",
       "      <td>139400.088950</td>\n",
       "    </tr>\n",
       "    <tr>\n",
       "      <th>2184</th>\n",
       "      <td>166</td>\n",
       "      <td>46</td>\n",
       "      <td>1.0</td>\n",
       "      <td>32.373951</td>\n",
       "      <td>19.456681</td>\n",
       "      <td>6.0</td>\n",
       "      <td>10</td>\n",
       "      <td>12.0</td>\n",
       "      <td>1970</td>\n",
       "      <td>0.000000</td>\n",
       "      <td>B</td>\n",
       "      <td>B</td>\n",
       "      <td>47</td>\n",
       "      <td>11319</td>\n",
       "      <td>0</td>\n",
       "      <td>1145.0</td>\n",
       "      <td>3</td>\n",
       "      <td>5</td>\n",
       "      <td>B</td>\n",
       "      <td>167457.382569</td>\n",
       "    </tr>\n",
       "    <tr>\n",
       "      <th>2545</th>\n",
       "      <td>1022</td>\n",
       "      <td>3</td>\n",
       "      <td>1.0</td>\n",
       "      <td>32.835396</td>\n",
       "      <td>19.498796</td>\n",
       "      <td>6.0</td>\n",
       "      <td>10</td>\n",
       "      <td>12.0</td>\n",
       "      <td>1972</td>\n",
       "      <td>0.050900</td>\n",
       "      <td>B</td>\n",
       "      <td>B</td>\n",
       "      <td>43</td>\n",
       "      <td>10621</td>\n",
       "      <td>1</td>\n",
       "      <td>30.0</td>\n",
       "      <td>2</td>\n",
       "      <td>3</td>\n",
       "      <td>B</td>\n",
       "      <td>143913.845801</td>\n",
       "    </tr>\n",
       "    <tr>\n",
       "      <th>2937</th>\n",
       "      <td>16793</td>\n",
       "      <td>53</td>\n",
       "      <td>1.0</td>\n",
       "      <td>33.258974</td>\n",
       "      <td>19.576423</td>\n",
       "      <td>6.0</td>\n",
       "      <td>6</td>\n",
       "      <td>12.0</td>\n",
       "      <td>1972</td>\n",
       "      <td>0.313925</td>\n",
       "      <td>B</td>\n",
       "      <td>B</td>\n",
       "      <td>22</td>\n",
       "      <td>4625</td>\n",
       "      <td>11</td>\n",
       "      <td>3855.0</td>\n",
       "      <td>2</td>\n",
       "      <td>10</td>\n",
       "      <td>B</td>\n",
       "      <td>201307.933649</td>\n",
       "    </tr>\n",
       "    <tr>\n",
       "      <th>3055</th>\n",
       "      <td>3972</td>\n",
       "      <td>94</td>\n",
       "      <td>1.0</td>\n",
       "      <td>32.510369</td>\n",
       "      <td>19.304511</td>\n",
       "      <td>6.0</td>\n",
       "      <td>7</td>\n",
       "      <td>9.0</td>\n",
       "      <td>1975</td>\n",
       "      <td>0.127376</td>\n",
       "      <td>B</td>\n",
       "      <td>B</td>\n",
       "      <td>43</td>\n",
       "      <td>8429</td>\n",
       "      <td>3</td>\n",
       "      <td>NaN</td>\n",
       "      <td>3</td>\n",
       "      <td>9</td>\n",
       "      <td>B</td>\n",
       "      <td>141468.240917</td>\n",
       "    </tr>\n",
       "    <tr>\n",
       "      <th>3127</th>\n",
       "      <td>342</td>\n",
       "      <td>52</td>\n",
       "      <td>1.0</td>\n",
       "      <td>33.481414</td>\n",
       "      <td>19.379117</td>\n",
       "      <td>6.0</td>\n",
       "      <td>10</td>\n",
       "      <td>9.0</td>\n",
       "      <td>1975</td>\n",
       "      <td>0.371149</td>\n",
       "      <td>B</td>\n",
       "      <td>B</td>\n",
       "      <td>34</td>\n",
       "      <td>7065</td>\n",
       "      <td>1</td>\n",
       "      <td>750.0</td>\n",
       "      <td>2</td>\n",
       "      <td>5</td>\n",
       "      <td>B</td>\n",
       "      <td>137341.599520</td>\n",
       "    </tr>\n",
       "    <tr>\n",
       "      <th>3262</th>\n",
       "      <td>14828</td>\n",
       "      <td>67</td>\n",
       "      <td>1.0</td>\n",
       "      <td>32.661301</td>\n",
       "      <td>18.043465</td>\n",
       "      <td>7.0</td>\n",
       "      <td>3</td>\n",
       "      <td>12.0</td>\n",
       "      <td>1975</td>\n",
       "      <td>0.100456</td>\n",
       "      <td>B</td>\n",
       "      <td>B</td>\n",
       "      <td>43</td>\n",
       "      <td>7227</td>\n",
       "      <td>0</td>\n",
       "      <td>NaN</td>\n",
       "      <td>1</td>\n",
       "      <td>6</td>\n",
       "      <td>A</td>\n",
       "      <td>169378.726373</td>\n",
       "    </tr>\n",
       "    <tr>\n",
       "      <th>3381</th>\n",
       "      <td>1834</td>\n",
       "      <td>21</td>\n",
       "      <td>1.0</td>\n",
       "      <td>31.716718</td>\n",
       "      <td>19.423187</td>\n",
       "      <td>6.0</td>\n",
       "      <td>7</td>\n",
       "      <td>5.0</td>\n",
       "      <td>1959</td>\n",
       "      <td>0.034331</td>\n",
       "      <td>B</td>\n",
       "      <td>B</td>\n",
       "      <td>25</td>\n",
       "      <td>5487</td>\n",
       "      <td>3</td>\n",
       "      <td>NaN</td>\n",
       "      <td>0</td>\n",
       "      <td>4</td>\n",
       "      <td>B</td>\n",
       "      <td>123522.340388</td>\n",
       "    </tr>\n",
       "    <tr>\n",
       "      <th>3840</th>\n",
       "      <td>9395</td>\n",
       "      <td>11</td>\n",
       "      <td>1.0</td>\n",
       "      <td>32.801061</td>\n",
       "      <td>18.907500</td>\n",
       "      <td>7.0</td>\n",
       "      <td>8</td>\n",
       "      <td>12.0</td>\n",
       "      <td>1974</td>\n",
       "      <td>0.000170</td>\n",
       "      <td>B</td>\n",
       "      <td>B</td>\n",
       "      <td>36</td>\n",
       "      <td>5992</td>\n",
       "      <td>0</td>\n",
       "      <td>NaN</td>\n",
       "      <td>1</td>\n",
       "      <td>1</td>\n",
       "      <td>B</td>\n",
       "      <td>149985.361547</td>\n",
       "    </tr>\n",
       "    <tr>\n",
       "      <th>4732</th>\n",
       "      <td>16017</td>\n",
       "      <td>93</td>\n",
       "      <td>1.0</td>\n",
       "      <td>33.400294</td>\n",
       "      <td>19.701135</td>\n",
       "      <td>6.0</td>\n",
       "      <td>2</td>\n",
       "      <td>9.0</td>\n",
       "      <td>1978</td>\n",
       "      <td>0.050900</td>\n",
       "      <td>B</td>\n",
       "      <td>B</td>\n",
       "      <td>43</td>\n",
       "      <td>10621</td>\n",
       "      <td>1</td>\n",
       "      <td>30.0</td>\n",
       "      <td>2</td>\n",
       "      <td>3</td>\n",
       "      <td>B</td>\n",
       "      <td>124346.852465</td>\n",
       "    </tr>\n",
       "    <tr>\n",
       "      <th>4733</th>\n",
       "      <td>1176</td>\n",
       "      <td>46</td>\n",
       "      <td>1.0</td>\n",
       "      <td>32.134233</td>\n",
       "      <td>18.591200</td>\n",
       "      <td>6.0</td>\n",
       "      <td>5</td>\n",
       "      <td>12.0</td>\n",
       "      <td>1971</td>\n",
       "      <td>0.000000</td>\n",
       "      <td>B</td>\n",
       "      <td>B</td>\n",
       "      <td>47</td>\n",
       "      <td>11319</td>\n",
       "      <td>0</td>\n",
       "      <td>1145.0</td>\n",
       "      <td>3</td>\n",
       "      <td>5</td>\n",
       "      <td>B</td>\n",
       "      <td>172887.524555</td>\n",
       "    </tr>\n",
       "    <tr>\n",
       "      <th>4970</th>\n",
       "      <td>7449</td>\n",
       "      <td>29</td>\n",
       "      <td>1.0</td>\n",
       "      <td>33.590094</td>\n",
       "      <td>19.608496</td>\n",
       "      <td>6.0</td>\n",
       "      <td>8</td>\n",
       "      <td>9.0</td>\n",
       "      <td>1971</td>\n",
       "      <td>0.086885</td>\n",
       "      <td>B</td>\n",
       "      <td>B</td>\n",
       "      <td>10</td>\n",
       "      <td>2277</td>\n",
       "      <td>2</td>\n",
       "      <td>1547.0</td>\n",
       "      <td>0</td>\n",
       "      <td>0</td>\n",
       "      <td>B</td>\n",
       "      <td>114696.059681</td>\n",
       "    </tr>\n",
       "    <tr>\n",
       "      <th>5779</th>\n",
       "      <td>15351</td>\n",
       "      <td>47</td>\n",
       "      <td>1.0</td>\n",
       "      <td>33.273167</td>\n",
       "      <td>18.739437</td>\n",
       "      <td>7.0</td>\n",
       "      <td>21</td>\n",
       "      <td>22.0</td>\n",
       "      <td>2007</td>\n",
       "      <td>0.298205</td>\n",
       "      <td>B</td>\n",
       "      <td>B</td>\n",
       "      <td>16</td>\n",
       "      <td>4048</td>\n",
       "      <td>3</td>\n",
       "      <td>NaN</td>\n",
       "      <td>1</td>\n",
       "      <td>3</td>\n",
       "      <td>B</td>\n",
       "      <td>180242.533509</td>\n",
       "    </tr>\n",
       "    <tr>\n",
       "      <th>6255</th>\n",
       "      <td>8733</td>\n",
       "      <td>85</td>\n",
       "      <td>1.0</td>\n",
       "      <td>32.284176</td>\n",
       "      <td>19.176940</td>\n",
       "      <td>6.0</td>\n",
       "      <td>7</td>\n",
       "      <td>9.0</td>\n",
       "      <td>1978</td>\n",
       "      <td>0.037178</td>\n",
       "      <td>B</td>\n",
       "      <td>B</td>\n",
       "      <td>52</td>\n",
       "      <td>11217</td>\n",
       "      <td>1</td>\n",
       "      <td>2300.0</td>\n",
       "      <td>1</td>\n",
       "      <td>7</td>\n",
       "      <td>B</td>\n",
       "      <td>190755.601590</td>\n",
       "    </tr>\n",
       "    <tr>\n",
       "      <th>7624</th>\n",
       "      <td>2614</td>\n",
       "      <td>14</td>\n",
       "      <td>1.0</td>\n",
       "      <td>33.269796</td>\n",
       "      <td>18.858285</td>\n",
       "      <td>6.0</td>\n",
       "      <td>5</td>\n",
       "      <td>5.0</td>\n",
       "      <td>1963</td>\n",
       "      <td>0.042032</td>\n",
       "      <td>B</td>\n",
       "      <td>B</td>\n",
       "      <td>37</td>\n",
       "      <td>6856</td>\n",
       "      <td>84</td>\n",
       "      <td>1940.0</td>\n",
       "      <td>2</td>\n",
       "      <td>5</td>\n",
       "      <td>B</td>\n",
       "      <td>184275.858565</td>\n",
       "    </tr>\n",
       "    <tr>\n",
       "      <th>8793</th>\n",
       "      <td>1568</td>\n",
       "      <td>39</td>\n",
       "      <td>1.0</td>\n",
       "      <td>32.111638</td>\n",
       "      <td>18.550073</td>\n",
       "      <td>6.0</td>\n",
       "      <td>10</td>\n",
       "      <td>9.0</td>\n",
       "      <td>1972</td>\n",
       "      <td>0.428826</td>\n",
       "      <td>B</td>\n",
       "      <td>B</td>\n",
       "      <td>25</td>\n",
       "      <td>5011</td>\n",
       "      <td>8</td>\n",
       "      <td>730.0</td>\n",
       "      <td>0</td>\n",
       "      <td>2</td>\n",
       "      <td>B</td>\n",
       "      <td>154268.366733</td>\n",
       "    </tr>\n",
       "    <tr>\n",
       "      <th>9168</th>\n",
       "      <td>3729</td>\n",
       "      <td>26</td>\n",
       "      <td>1.0</td>\n",
       "      <td>33.487388</td>\n",
       "      <td>18.201162</td>\n",
       "      <td>6.0</td>\n",
       "      <td>7</td>\n",
       "      <td>9.0</td>\n",
       "      <td>1977</td>\n",
       "      <td>0.000000</td>\n",
       "      <td>B</td>\n",
       "      <td>B</td>\n",
       "      <td>36</td>\n",
       "      <td>6714</td>\n",
       "      <td>2</td>\n",
       "      <td>2672.0</td>\n",
       "      <td>0</td>\n",
       "      <td>2</td>\n",
       "      <td>B</td>\n",
       "      <td>169809.799481</td>\n",
       "    </tr>\n",
       "    <tr>\n",
       "      <th>9661</th>\n",
       "      <td>4627</td>\n",
       "      <td>10</td>\n",
       "      <td>1.0</td>\n",
       "      <td>32.369192</td>\n",
       "      <td>19.638768</td>\n",
       "      <td>7.0</td>\n",
       "      <td>4</td>\n",
       "      <td>12.0</td>\n",
       "      <td>1976</td>\n",
       "      <td>0.089040</td>\n",
       "      <td>B</td>\n",
       "      <td>B</td>\n",
       "      <td>33</td>\n",
       "      <td>7976</td>\n",
       "      <td>5</td>\n",
       "      <td>NaN</td>\n",
       "      <td>0</td>\n",
       "      <td>11</td>\n",
       "      <td>B</td>\n",
       "      <td>167638.394029</td>\n",
       "    </tr>\n",
       "    <tr>\n",
       "      <th>9734</th>\n",
       "      <td>4142</td>\n",
       "      <td>39</td>\n",
       "      <td>1.0</td>\n",
       "      <td>32.900560</td>\n",
       "      <td>18.873831</td>\n",
       "      <td>6.0</td>\n",
       "      <td>7</td>\n",
       "      <td>9.0</td>\n",
       "      <td>1973</td>\n",
       "      <td>0.428826</td>\n",
       "      <td>B</td>\n",
       "      <td>B</td>\n",
       "      <td>25</td>\n",
       "      <td>5011</td>\n",
       "      <td>8</td>\n",
       "      <td>730.0</td>\n",
       "      <td>0</td>\n",
       "      <td>2</td>\n",
       "      <td>B</td>\n",
       "      <td>143150.141910</td>\n",
       "    </tr>\n",
       "    <tr>\n",
       "      <th>9959</th>\n",
       "      <td>10361</td>\n",
       "      <td>0</td>\n",
       "      <td>1.0</td>\n",
       "      <td>32.416925</td>\n",
       "      <td>19.257869</td>\n",
       "      <td>6.0</td>\n",
       "      <td>6</td>\n",
       "      <td>5.0</td>\n",
       "      <td>1963</td>\n",
       "      <td>0.319809</td>\n",
       "      <td>B</td>\n",
       "      <td>B</td>\n",
       "      <td>25</td>\n",
       "      <td>4756</td>\n",
       "      <td>16</td>\n",
       "      <td>2857.0</td>\n",
       "      <td>5</td>\n",
       "      <td>8</td>\n",
       "      <td>B</td>\n",
       "      <td>125579.315184</td>\n",
       "    </tr>\n",
       "  </tbody>\n",
       "</table>\n",
       "</div>"
      ],
      "text/plain": [
       "         Id  DistrictId  Rooms     Square  LifeSquare  KitchenSquare  Floor  \\\n",
       "646    6232           3    1.0  33.245676   18.719108            6.0      9   \n",
       "921     599          46    1.0  32.167400   18.353275            6.0      3   \n",
       "1790   5715          22    1.0  32.198351   19.043846            6.0      4   \n",
       "2184    166          46    1.0  32.373951   19.456681            6.0     10   \n",
       "2545   1022           3    1.0  32.835396   19.498796            6.0     10   \n",
       "2937  16793          53    1.0  33.258974   19.576423            6.0      6   \n",
       "3055   3972          94    1.0  32.510369   19.304511            6.0      7   \n",
       "3127    342          52    1.0  33.481414   19.379117            6.0     10   \n",
       "3262  14828          67    1.0  32.661301   18.043465            7.0      3   \n",
       "3381   1834          21    1.0  31.716718   19.423187            6.0      7   \n",
       "3840   9395          11    1.0  32.801061   18.907500            7.0      8   \n",
       "4732  16017          93    1.0  33.400294   19.701135            6.0      2   \n",
       "4733   1176          46    1.0  32.134233   18.591200            6.0      5   \n",
       "4970   7449          29    1.0  33.590094   19.608496            6.0      8   \n",
       "5779  15351          47    1.0  33.273167   18.739437            7.0     21   \n",
       "6255   8733          85    1.0  32.284176   19.176940            6.0      7   \n",
       "7624   2614          14    1.0  33.269796   18.858285            6.0      5   \n",
       "8793   1568          39    1.0  32.111638   18.550073            6.0     10   \n",
       "9168   3729          26    1.0  33.487388   18.201162            6.0      7   \n",
       "9661   4627          10    1.0  32.369192   19.638768            7.0      4   \n",
       "9734   4142          39    1.0  32.900560   18.873831            6.0      7   \n",
       "9959  10361           0    1.0  32.416925   19.257869            6.0      6   \n",
       "\n",
       "      HouseFloor  HouseYear  Ecology_1 Ecology_2 Ecology_3  Social_1  \\\n",
       "646          9.0       1972   0.050900         B         B        43   \n",
       "921          9.0       1968   0.000000         B         B        47   \n",
       "1790         5.0       1959   0.000995         B         B        42   \n",
       "2184        12.0       1970   0.000000         B         B        47   \n",
       "2545        12.0       1972   0.050900         B         B        43   \n",
       "2937        12.0       1972   0.313925         B         B        22   \n",
       "3055         9.0       1975   0.127376         B         B        43   \n",
       "3127         9.0       1975   0.371149         B         B        34   \n",
       "3262        12.0       1975   0.100456         B         B        43   \n",
       "3381         5.0       1959   0.034331         B         B        25   \n",
       "3840        12.0       1974   0.000170         B         B        36   \n",
       "4732         9.0       1978   0.050900         B         B        43   \n",
       "4733        12.0       1971   0.000000         B         B        47   \n",
       "4970         9.0       1971   0.086885         B         B        10   \n",
       "5779        22.0       2007   0.298205         B         B        16   \n",
       "6255         9.0       1978   0.037178         B         B        52   \n",
       "7624         5.0       1963   0.042032         B         B        37   \n",
       "8793         9.0       1972   0.428826         B         B        25   \n",
       "9168         9.0       1977   0.000000         B         B        36   \n",
       "9661        12.0       1976   0.089040         B         B        33   \n",
       "9734         9.0       1973   0.428826         B         B        25   \n",
       "9959         5.0       1963   0.319809         B         B        25   \n",
       "\n",
       "      Social_2  Social_3  Healthcare_1  Helthcare_2  Shops_1 Shops_2  \\\n",
       "646      10621         1          30.0            2        3       B   \n",
       "921      11319         0        1145.0            3        5       B   \n",
       "1790      7651         1           NaN            1        5       B   \n",
       "2184     11319         0        1145.0            3        5       B   \n",
       "2545     10621         1          30.0            2        3       B   \n",
       "2937      4625        11        3855.0            2       10       B   \n",
       "3055      8429         3           NaN            3        9       B   \n",
       "3127      7065         1         750.0            2        5       B   \n",
       "3262      7227         0           NaN            1        6       A   \n",
       "3381      5487         3           NaN            0        4       B   \n",
       "3840      5992         0           NaN            1        1       B   \n",
       "4732     10621         1          30.0            2        3       B   \n",
       "4733     11319         0        1145.0            3        5       B   \n",
       "4970      2277         2        1547.0            0        0       B   \n",
       "5779      4048         3           NaN            1        3       B   \n",
       "6255     11217         1        2300.0            1        7       B   \n",
       "7624      6856        84        1940.0            2        5       B   \n",
       "8793      5011         8         730.0            0        2       B   \n",
       "9168      6714         2        2672.0            0        2       B   \n",
       "9661      7976         5           NaN            0       11       B   \n",
       "9734      5011         8         730.0            0        2       B   \n",
       "9959      4756        16        2857.0            5        8       B   \n",
       "\n",
       "              Price  \n",
       "646   142218.797930  \n",
       "921   173714.416621  \n",
       "1790  139400.088950  \n",
       "2184  167457.382569  \n",
       "2545  143913.845801  \n",
       "2937  201307.933649  \n",
       "3055  141468.240917  \n",
       "3127  137341.599520  \n",
       "3262  169378.726373  \n",
       "3381  123522.340388  \n",
       "3840  149985.361547  \n",
       "4732  124346.852465  \n",
       "4733  172887.524555  \n",
       "4970  114696.059681  \n",
       "5779  180242.533509  \n",
       "6255  190755.601590  \n",
       "7624  184275.858565  \n",
       "8793  154268.366733  \n",
       "9168  169809.799481  \n",
       "9661  167638.394029  \n",
       "9734  143150.141910  \n",
       "9959  125579.315184  "
      ]
     },
     "execution_count": 15,
     "metadata": {},
     "output_type": "execute_result"
    }
   ],
   "source": [
    "# Из википедии для проекта II-57 \n",
    "# Комнатность\tОбщая, м²\tЖилая, м²\tКухня, м²\n",
    "# 1-комнатная квартира\t32.6\t18.74\t6.69\n",
    "\n",
    "data_train[((data_train['Square'] >= 31.6) & (data_train['Square'] <= 33.6))\n",
    "           & ((data_train['LifeSquare'] >= 17.74) & (data_train['LifeSquare'] <= 19.74))\n",
    "           & ((data_train['KitchenSquare'] >= 5.69) & (data_train['KitchenSquare'] <= 7.69))]"
   ]
  }
 ],
 "metadata": {
  "kernelspec": {
   "display_name": "Python 3",
   "language": "python",
   "name": "python3"
  },
  "language_info": {
   "codemirror_mode": {
    "name": "ipython",
    "version": 3
   },
   "file_extension": ".py",
   "mimetype": "text/x-python",
   "name": "python",
   "nbconvert_exporter": "python",
   "pygments_lexer": "ipython3",
   "version": "3.7.1"
  }
 },
 "nbformat": 4,
 "nbformat_minor": 2
}
